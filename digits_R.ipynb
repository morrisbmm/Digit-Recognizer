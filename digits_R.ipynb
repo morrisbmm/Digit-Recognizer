{
 "cells": [
  {
   "cell_type": "code",
   "execution_count": 1,
   "id": "a1c8e77d",
   "metadata": {
    "_cell_guid": "b1076dfc-b9ad-4769-8c92-a6c4dae69d19",
    "_uuid": "8f2839f25d086af736a60e9eeb907d3b93b6e0e5",
    "execution": {
     "iopub.execute_input": "2021-09-24T05:47:48.683790Z",
     "iopub.status.busy": "2021-09-24T05:47:48.681863Z",
     "iopub.status.idle": "2021-09-24T05:47:54.193180Z",
     "shell.execute_reply": "2021-09-24T05:47:54.192452Z",
     "shell.execute_reply.started": "2021-09-24T05:41:28.039647Z"
    },
    "papermill": {
     "duration": 5.536608,
     "end_time": "2021-09-24T05:47:54.193412",
     "exception": false,
     "start_time": "2021-09-24T05:47:48.656804",
     "status": "completed"
    },
    "tags": []
   },
   "outputs": [],
   "source": [
    "import numpy as np \n",
    "import pandas as pd \n",
    "from matplotlib import pyplot as plt\n",
    "import seaborn as sns\n",
    "%matplotlib inline\n",
    "import tensorflow as tf\n",
    "from tensorflow import keras\n",
    "from tensorflow.keras.utils import to_categorical"
   ]
  },
  {
   "cell_type": "code",
   "execution_count": 3,
   "id": "7da4cc1d",
   "metadata": {
    "execution": {
     "iopub.execute_input": "2021-09-24T05:47:54.240494Z",
     "iopub.status.busy": "2021-09-24T05:47:54.239713Z",
     "iopub.status.idle": "2021-09-24T05:47:58.018016Z",
     "shell.execute_reply": "2021-09-24T05:47:58.018610Z",
     "shell.execute_reply.started": "2021-09-24T05:41:34.563913Z"
    },
    "papermill": {
     "duration": 3.804992,
     "end_time": "2021-09-24T05:47:58.018840",
     "exception": false,
     "start_time": "2021-09-24T05:47:54.213848",
     "status": "completed"
    },
    "tags": []
   },
   "outputs": [
    {
     "data": {
      "text/html": [
       "<div>\n",
       "<style scoped>\n",
       "    .dataframe tbody tr th:only-of-type {\n",
       "        vertical-align: middle;\n",
       "    }\n",
       "\n",
       "    .dataframe tbody tr th {\n",
       "        vertical-align: top;\n",
       "    }\n",
       "\n",
       "    .dataframe thead th {\n",
       "        text-align: right;\n",
       "    }\n",
       "</style>\n",
       "<table border=\"1\" class=\"dataframe\">\n",
       "  <thead>\n",
       "    <tr style=\"text-align: right;\">\n",
       "      <th></th>\n",
       "      <th>label</th>\n",
       "      <th>pixel0</th>\n",
       "      <th>pixel1</th>\n",
       "      <th>pixel2</th>\n",
       "      <th>pixel3</th>\n",
       "      <th>pixel4</th>\n",
       "      <th>pixel5</th>\n",
       "      <th>pixel6</th>\n",
       "      <th>pixel7</th>\n",
       "      <th>pixel8</th>\n",
       "      <th>...</th>\n",
       "      <th>pixel774</th>\n",
       "      <th>pixel775</th>\n",
       "      <th>pixel776</th>\n",
       "      <th>pixel777</th>\n",
       "      <th>pixel778</th>\n",
       "      <th>pixel779</th>\n",
       "      <th>pixel780</th>\n",
       "      <th>pixel781</th>\n",
       "      <th>pixel782</th>\n",
       "      <th>pixel783</th>\n",
       "    </tr>\n",
       "  </thead>\n",
       "  <tbody>\n",
       "    <tr>\n",
       "      <th>0</th>\n",
       "      <td>1</td>\n",
       "      <td>0</td>\n",
       "      <td>0</td>\n",
       "      <td>0</td>\n",
       "      <td>0</td>\n",
       "      <td>0</td>\n",
       "      <td>0</td>\n",
       "      <td>0</td>\n",
       "      <td>0</td>\n",
       "      <td>0</td>\n",
       "      <td>...</td>\n",
       "      <td>0</td>\n",
       "      <td>0</td>\n",
       "      <td>0</td>\n",
       "      <td>0</td>\n",
       "      <td>0</td>\n",
       "      <td>0</td>\n",
       "      <td>0</td>\n",
       "      <td>0</td>\n",
       "      <td>0</td>\n",
       "      <td>0</td>\n",
       "    </tr>\n",
       "    <tr>\n",
       "      <th>1</th>\n",
       "      <td>0</td>\n",
       "      <td>0</td>\n",
       "      <td>0</td>\n",
       "      <td>0</td>\n",
       "      <td>0</td>\n",
       "      <td>0</td>\n",
       "      <td>0</td>\n",
       "      <td>0</td>\n",
       "      <td>0</td>\n",
       "      <td>0</td>\n",
       "      <td>...</td>\n",
       "      <td>0</td>\n",
       "      <td>0</td>\n",
       "      <td>0</td>\n",
       "      <td>0</td>\n",
       "      <td>0</td>\n",
       "      <td>0</td>\n",
       "      <td>0</td>\n",
       "      <td>0</td>\n",
       "      <td>0</td>\n",
       "      <td>0</td>\n",
       "    </tr>\n",
       "    <tr>\n",
       "      <th>2</th>\n",
       "      <td>1</td>\n",
       "      <td>0</td>\n",
       "      <td>0</td>\n",
       "      <td>0</td>\n",
       "      <td>0</td>\n",
       "      <td>0</td>\n",
       "      <td>0</td>\n",
       "      <td>0</td>\n",
       "      <td>0</td>\n",
       "      <td>0</td>\n",
       "      <td>...</td>\n",
       "      <td>0</td>\n",
       "      <td>0</td>\n",
       "      <td>0</td>\n",
       "      <td>0</td>\n",
       "      <td>0</td>\n",
       "      <td>0</td>\n",
       "      <td>0</td>\n",
       "      <td>0</td>\n",
       "      <td>0</td>\n",
       "      <td>0</td>\n",
       "    </tr>\n",
       "    <tr>\n",
       "      <th>3</th>\n",
       "      <td>4</td>\n",
       "      <td>0</td>\n",
       "      <td>0</td>\n",
       "      <td>0</td>\n",
       "      <td>0</td>\n",
       "      <td>0</td>\n",
       "      <td>0</td>\n",
       "      <td>0</td>\n",
       "      <td>0</td>\n",
       "      <td>0</td>\n",
       "      <td>...</td>\n",
       "      <td>0</td>\n",
       "      <td>0</td>\n",
       "      <td>0</td>\n",
       "      <td>0</td>\n",
       "      <td>0</td>\n",
       "      <td>0</td>\n",
       "      <td>0</td>\n",
       "      <td>0</td>\n",
       "      <td>0</td>\n",
       "      <td>0</td>\n",
       "    </tr>\n",
       "    <tr>\n",
       "      <th>4</th>\n",
       "      <td>0</td>\n",
       "      <td>0</td>\n",
       "      <td>0</td>\n",
       "      <td>0</td>\n",
       "      <td>0</td>\n",
       "      <td>0</td>\n",
       "      <td>0</td>\n",
       "      <td>0</td>\n",
       "      <td>0</td>\n",
       "      <td>0</td>\n",
       "      <td>...</td>\n",
       "      <td>0</td>\n",
       "      <td>0</td>\n",
       "      <td>0</td>\n",
       "      <td>0</td>\n",
       "      <td>0</td>\n",
       "      <td>0</td>\n",
       "      <td>0</td>\n",
       "      <td>0</td>\n",
       "      <td>0</td>\n",
       "      <td>0</td>\n",
       "    </tr>\n",
       "  </tbody>\n",
       "</table>\n",
       "<p>5 rows × 785 columns</p>\n",
       "</div>"
      ],
      "text/plain": [
       "   label  pixel0  pixel1  pixel2  pixel3  pixel4  pixel5  pixel6  pixel7  \\\n",
       "0      1       0       0       0       0       0       0       0       0   \n",
       "1      0       0       0       0       0       0       0       0       0   \n",
       "2      1       0       0       0       0       0       0       0       0   \n",
       "3      4       0       0       0       0       0       0       0       0   \n",
       "4      0       0       0       0       0       0       0       0       0   \n",
       "\n",
       "   pixel8  ...  pixel774  pixel775  pixel776  pixel777  pixel778  pixel779  \\\n",
       "0       0  ...         0         0         0         0         0         0   \n",
       "1       0  ...         0         0         0         0         0         0   \n",
       "2       0  ...         0         0         0         0         0         0   \n",
       "3       0  ...         0         0         0         0         0         0   \n",
       "4       0  ...         0         0         0         0         0         0   \n",
       "\n",
       "   pixel780  pixel781  pixel782  pixel783  \n",
       "0         0         0         0         0  \n",
       "1         0         0         0         0  \n",
       "2         0         0         0         0  \n",
       "3         0         0         0         0  \n",
       "4         0         0         0         0  \n",
       "\n",
       "[5 rows x 785 columns]"
      ]
     },
     "execution_count": 3,
     "metadata": {},
     "output_type": "execute_result"
    }
   ],
   "source": [
    "train_df = pd.read_csv('train.csv')\n",
    "train_df.head(5)"
   ]
  },
  {
   "cell_type": "code",
   "execution_count": 4,
   "id": "def64f71",
   "metadata": {
    "execution": {
     "iopub.execute_input": "2021-09-24T05:47:58.064624Z",
     "iopub.status.busy": "2021-09-24T05:47:58.063916Z",
     "iopub.status.idle": "2021-09-24T05:48:00.180882Z",
     "shell.execute_reply": "2021-09-24T05:48:00.180278Z",
     "shell.execute_reply.started": "2021-09-24T05:41:37.646592Z"
    },
    "papermill": {
     "duration": 2.142025,
     "end_time": "2021-09-24T05:48:00.181048",
     "exception": false,
     "start_time": "2021-09-24T05:47:58.039023",
     "status": "completed"
    },
    "tags": []
   },
   "outputs": [
    {
     "data": {
      "text/html": [
       "<div>\n",
       "<style scoped>\n",
       "    .dataframe tbody tr th:only-of-type {\n",
       "        vertical-align: middle;\n",
       "    }\n",
       "\n",
       "    .dataframe tbody tr th {\n",
       "        vertical-align: top;\n",
       "    }\n",
       "\n",
       "    .dataframe thead th {\n",
       "        text-align: right;\n",
       "    }\n",
       "</style>\n",
       "<table border=\"1\" class=\"dataframe\">\n",
       "  <thead>\n",
       "    <tr style=\"text-align: right;\">\n",
       "      <th></th>\n",
       "      <th>pixel0</th>\n",
       "      <th>pixel1</th>\n",
       "      <th>pixel2</th>\n",
       "      <th>pixel3</th>\n",
       "      <th>pixel4</th>\n",
       "      <th>pixel5</th>\n",
       "      <th>pixel6</th>\n",
       "      <th>pixel7</th>\n",
       "      <th>pixel8</th>\n",
       "      <th>pixel9</th>\n",
       "      <th>...</th>\n",
       "      <th>pixel774</th>\n",
       "      <th>pixel775</th>\n",
       "      <th>pixel776</th>\n",
       "      <th>pixel777</th>\n",
       "      <th>pixel778</th>\n",
       "      <th>pixel779</th>\n",
       "      <th>pixel780</th>\n",
       "      <th>pixel781</th>\n",
       "      <th>pixel782</th>\n",
       "      <th>pixel783</th>\n",
       "    </tr>\n",
       "  </thead>\n",
       "  <tbody>\n",
       "    <tr>\n",
       "      <th>0</th>\n",
       "      <td>0</td>\n",
       "      <td>0</td>\n",
       "      <td>0</td>\n",
       "      <td>0</td>\n",
       "      <td>0</td>\n",
       "      <td>0</td>\n",
       "      <td>0</td>\n",
       "      <td>0</td>\n",
       "      <td>0</td>\n",
       "      <td>0</td>\n",
       "      <td>...</td>\n",
       "      <td>0</td>\n",
       "      <td>0</td>\n",
       "      <td>0</td>\n",
       "      <td>0</td>\n",
       "      <td>0</td>\n",
       "      <td>0</td>\n",
       "      <td>0</td>\n",
       "      <td>0</td>\n",
       "      <td>0</td>\n",
       "      <td>0</td>\n",
       "    </tr>\n",
       "    <tr>\n",
       "      <th>1</th>\n",
       "      <td>0</td>\n",
       "      <td>0</td>\n",
       "      <td>0</td>\n",
       "      <td>0</td>\n",
       "      <td>0</td>\n",
       "      <td>0</td>\n",
       "      <td>0</td>\n",
       "      <td>0</td>\n",
       "      <td>0</td>\n",
       "      <td>0</td>\n",
       "      <td>...</td>\n",
       "      <td>0</td>\n",
       "      <td>0</td>\n",
       "      <td>0</td>\n",
       "      <td>0</td>\n",
       "      <td>0</td>\n",
       "      <td>0</td>\n",
       "      <td>0</td>\n",
       "      <td>0</td>\n",
       "      <td>0</td>\n",
       "      <td>0</td>\n",
       "    </tr>\n",
       "    <tr>\n",
       "      <th>2</th>\n",
       "      <td>0</td>\n",
       "      <td>0</td>\n",
       "      <td>0</td>\n",
       "      <td>0</td>\n",
       "      <td>0</td>\n",
       "      <td>0</td>\n",
       "      <td>0</td>\n",
       "      <td>0</td>\n",
       "      <td>0</td>\n",
       "      <td>0</td>\n",
       "      <td>...</td>\n",
       "      <td>0</td>\n",
       "      <td>0</td>\n",
       "      <td>0</td>\n",
       "      <td>0</td>\n",
       "      <td>0</td>\n",
       "      <td>0</td>\n",
       "      <td>0</td>\n",
       "      <td>0</td>\n",
       "      <td>0</td>\n",
       "      <td>0</td>\n",
       "    </tr>\n",
       "    <tr>\n",
       "      <th>3</th>\n",
       "      <td>0</td>\n",
       "      <td>0</td>\n",
       "      <td>0</td>\n",
       "      <td>0</td>\n",
       "      <td>0</td>\n",
       "      <td>0</td>\n",
       "      <td>0</td>\n",
       "      <td>0</td>\n",
       "      <td>0</td>\n",
       "      <td>0</td>\n",
       "      <td>...</td>\n",
       "      <td>0</td>\n",
       "      <td>0</td>\n",
       "      <td>0</td>\n",
       "      <td>0</td>\n",
       "      <td>0</td>\n",
       "      <td>0</td>\n",
       "      <td>0</td>\n",
       "      <td>0</td>\n",
       "      <td>0</td>\n",
       "      <td>0</td>\n",
       "    </tr>\n",
       "    <tr>\n",
       "      <th>4</th>\n",
       "      <td>0</td>\n",
       "      <td>0</td>\n",
       "      <td>0</td>\n",
       "      <td>0</td>\n",
       "      <td>0</td>\n",
       "      <td>0</td>\n",
       "      <td>0</td>\n",
       "      <td>0</td>\n",
       "      <td>0</td>\n",
       "      <td>0</td>\n",
       "      <td>...</td>\n",
       "      <td>0</td>\n",
       "      <td>0</td>\n",
       "      <td>0</td>\n",
       "      <td>0</td>\n",
       "      <td>0</td>\n",
       "      <td>0</td>\n",
       "      <td>0</td>\n",
       "      <td>0</td>\n",
       "      <td>0</td>\n",
       "      <td>0</td>\n",
       "    </tr>\n",
       "  </tbody>\n",
       "</table>\n",
       "<p>5 rows × 784 columns</p>\n",
       "</div>"
      ],
      "text/plain": [
       "   pixel0  pixel1  pixel2  pixel3  pixel4  pixel5  pixel6  pixel7  pixel8  \\\n",
       "0       0       0       0       0       0       0       0       0       0   \n",
       "1       0       0       0       0       0       0       0       0       0   \n",
       "2       0       0       0       0       0       0       0       0       0   \n",
       "3       0       0       0       0       0       0       0       0       0   \n",
       "4       0       0       0       0       0       0       0       0       0   \n",
       "\n",
       "   pixel9  ...  pixel774  pixel775  pixel776  pixel777  pixel778  pixel779  \\\n",
       "0       0  ...         0         0         0         0         0         0   \n",
       "1       0  ...         0         0         0         0         0         0   \n",
       "2       0  ...         0         0         0         0         0         0   \n",
       "3       0  ...         0         0         0         0         0         0   \n",
       "4       0  ...         0         0         0         0         0         0   \n",
       "\n",
       "   pixel780  pixel781  pixel782  pixel783  \n",
       "0         0         0         0         0  \n",
       "1         0         0         0         0  \n",
       "2         0         0         0         0  \n",
       "3         0         0         0         0  \n",
       "4         0         0         0         0  \n",
       "\n",
       "[5 rows x 784 columns]"
      ]
     },
     "execution_count": 4,
     "metadata": {},
     "output_type": "execute_result"
    }
   ],
   "source": [
    "test_df = pd.read_csv('test.csv')\n",
    "test_df.head(5)"
   ]
  },
  {
   "cell_type": "markdown",
   "id": "34241cd0",
   "metadata": {
    "papermill": {
     "duration": 0.019781,
     "end_time": "2021-09-24T05:48:00.221871",
     "exception": false,
     "start_time": "2021-09-24T05:48:00.202090",
     "status": "completed"
    },
    "tags": []
   },
   "source": [
    "# Data Wrangling"
   ]
  },
  {
   "cell_type": "code",
   "execution_count": 5,
   "id": "abbb0dc7",
   "metadata": {
    "execution": {
     "iopub.execute_input": "2021-09-24T05:48:00.278558Z",
     "iopub.status.busy": "2021-09-24T05:48:00.277224Z",
     "iopub.status.idle": "2021-09-24T05:48:02.620663Z",
     "shell.execute_reply": "2021-09-24T05:48:02.620112Z",
     "shell.execute_reply.started": "2021-09-24T05:41:39.336134Z"
    },
    "papermill": {
     "duration": 2.378883,
     "end_time": "2021-09-24T05:48:02.620813",
     "exception": false,
     "start_time": "2021-09-24T05:48:00.241930",
     "status": "completed"
    },
    "tags": []
   },
   "outputs": [
    {
     "data": {
      "text/html": [
       "<div>\n",
       "<style scoped>\n",
       "    .dataframe tbody tr th:only-of-type {\n",
       "        vertical-align: middle;\n",
       "    }\n",
       "\n",
       "    .dataframe tbody tr th {\n",
       "        vertical-align: top;\n",
       "    }\n",
       "\n",
       "    .dataframe thead th {\n",
       "        text-align: right;\n",
       "    }\n",
       "</style>\n",
       "<table border=\"1\" class=\"dataframe\">\n",
       "  <thead>\n",
       "    <tr style=\"text-align: right;\">\n",
       "      <th></th>\n",
       "      <th>label</th>\n",
       "      <th>pixel0</th>\n",
       "      <th>pixel1</th>\n",
       "      <th>pixel2</th>\n",
       "      <th>pixel3</th>\n",
       "      <th>pixel4</th>\n",
       "      <th>pixel5</th>\n",
       "      <th>pixel6</th>\n",
       "      <th>pixel7</th>\n",
       "      <th>pixel8</th>\n",
       "      <th>...</th>\n",
       "      <th>pixel774</th>\n",
       "      <th>pixel775</th>\n",
       "      <th>pixel776</th>\n",
       "      <th>pixel777</th>\n",
       "      <th>pixel778</th>\n",
       "      <th>pixel779</th>\n",
       "      <th>pixel780</th>\n",
       "      <th>pixel781</th>\n",
       "      <th>pixel782</th>\n",
       "      <th>pixel783</th>\n",
       "    </tr>\n",
       "  </thead>\n",
       "  <tbody>\n",
       "    <tr>\n",
       "      <th>count</th>\n",
       "      <td>42000.000000</td>\n",
       "      <td>42000.0</td>\n",
       "      <td>42000.0</td>\n",
       "      <td>42000.0</td>\n",
       "      <td>42000.0</td>\n",
       "      <td>42000.0</td>\n",
       "      <td>42000.0</td>\n",
       "      <td>42000.0</td>\n",
       "      <td>42000.0</td>\n",
       "      <td>42000.0</td>\n",
       "      <td>...</td>\n",
       "      <td>42000.000000</td>\n",
       "      <td>42000.000000</td>\n",
       "      <td>42000.000000</td>\n",
       "      <td>42000.00000</td>\n",
       "      <td>42000.000000</td>\n",
       "      <td>42000.000000</td>\n",
       "      <td>42000.0</td>\n",
       "      <td>42000.0</td>\n",
       "      <td>42000.0</td>\n",
       "      <td>42000.0</td>\n",
       "    </tr>\n",
       "    <tr>\n",
       "      <th>mean</th>\n",
       "      <td>4.456643</td>\n",
       "      <td>0.0</td>\n",
       "      <td>0.0</td>\n",
       "      <td>0.0</td>\n",
       "      <td>0.0</td>\n",
       "      <td>0.0</td>\n",
       "      <td>0.0</td>\n",
       "      <td>0.0</td>\n",
       "      <td>0.0</td>\n",
       "      <td>0.0</td>\n",
       "      <td>...</td>\n",
       "      <td>0.219286</td>\n",
       "      <td>0.117095</td>\n",
       "      <td>0.059024</td>\n",
       "      <td>0.02019</td>\n",
       "      <td>0.017238</td>\n",
       "      <td>0.002857</td>\n",
       "      <td>0.0</td>\n",
       "      <td>0.0</td>\n",
       "      <td>0.0</td>\n",
       "      <td>0.0</td>\n",
       "    </tr>\n",
       "    <tr>\n",
       "      <th>std</th>\n",
       "      <td>2.887730</td>\n",
       "      <td>0.0</td>\n",
       "      <td>0.0</td>\n",
       "      <td>0.0</td>\n",
       "      <td>0.0</td>\n",
       "      <td>0.0</td>\n",
       "      <td>0.0</td>\n",
       "      <td>0.0</td>\n",
       "      <td>0.0</td>\n",
       "      <td>0.0</td>\n",
       "      <td>...</td>\n",
       "      <td>6.312890</td>\n",
       "      <td>4.633819</td>\n",
       "      <td>3.274488</td>\n",
       "      <td>1.75987</td>\n",
       "      <td>1.894498</td>\n",
       "      <td>0.414264</td>\n",
       "      <td>0.0</td>\n",
       "      <td>0.0</td>\n",
       "      <td>0.0</td>\n",
       "      <td>0.0</td>\n",
       "    </tr>\n",
       "    <tr>\n",
       "      <th>min</th>\n",
       "      <td>0.000000</td>\n",
       "      <td>0.0</td>\n",
       "      <td>0.0</td>\n",
       "      <td>0.0</td>\n",
       "      <td>0.0</td>\n",
       "      <td>0.0</td>\n",
       "      <td>0.0</td>\n",
       "      <td>0.0</td>\n",
       "      <td>0.0</td>\n",
       "      <td>0.0</td>\n",
       "      <td>...</td>\n",
       "      <td>0.000000</td>\n",
       "      <td>0.000000</td>\n",
       "      <td>0.000000</td>\n",
       "      <td>0.00000</td>\n",
       "      <td>0.000000</td>\n",
       "      <td>0.000000</td>\n",
       "      <td>0.0</td>\n",
       "      <td>0.0</td>\n",
       "      <td>0.0</td>\n",
       "      <td>0.0</td>\n",
       "    </tr>\n",
       "    <tr>\n",
       "      <th>25%</th>\n",
       "      <td>2.000000</td>\n",
       "      <td>0.0</td>\n",
       "      <td>0.0</td>\n",
       "      <td>0.0</td>\n",
       "      <td>0.0</td>\n",
       "      <td>0.0</td>\n",
       "      <td>0.0</td>\n",
       "      <td>0.0</td>\n",
       "      <td>0.0</td>\n",
       "      <td>0.0</td>\n",
       "      <td>...</td>\n",
       "      <td>0.000000</td>\n",
       "      <td>0.000000</td>\n",
       "      <td>0.000000</td>\n",
       "      <td>0.00000</td>\n",
       "      <td>0.000000</td>\n",
       "      <td>0.000000</td>\n",
       "      <td>0.0</td>\n",
       "      <td>0.0</td>\n",
       "      <td>0.0</td>\n",
       "      <td>0.0</td>\n",
       "    </tr>\n",
       "    <tr>\n",
       "      <th>50%</th>\n",
       "      <td>4.000000</td>\n",
       "      <td>0.0</td>\n",
       "      <td>0.0</td>\n",
       "      <td>0.0</td>\n",
       "      <td>0.0</td>\n",
       "      <td>0.0</td>\n",
       "      <td>0.0</td>\n",
       "      <td>0.0</td>\n",
       "      <td>0.0</td>\n",
       "      <td>0.0</td>\n",
       "      <td>...</td>\n",
       "      <td>0.000000</td>\n",
       "      <td>0.000000</td>\n",
       "      <td>0.000000</td>\n",
       "      <td>0.00000</td>\n",
       "      <td>0.000000</td>\n",
       "      <td>0.000000</td>\n",
       "      <td>0.0</td>\n",
       "      <td>0.0</td>\n",
       "      <td>0.0</td>\n",
       "      <td>0.0</td>\n",
       "    </tr>\n",
       "    <tr>\n",
       "      <th>75%</th>\n",
       "      <td>7.000000</td>\n",
       "      <td>0.0</td>\n",
       "      <td>0.0</td>\n",
       "      <td>0.0</td>\n",
       "      <td>0.0</td>\n",
       "      <td>0.0</td>\n",
       "      <td>0.0</td>\n",
       "      <td>0.0</td>\n",
       "      <td>0.0</td>\n",
       "      <td>0.0</td>\n",
       "      <td>...</td>\n",
       "      <td>0.000000</td>\n",
       "      <td>0.000000</td>\n",
       "      <td>0.000000</td>\n",
       "      <td>0.00000</td>\n",
       "      <td>0.000000</td>\n",
       "      <td>0.000000</td>\n",
       "      <td>0.0</td>\n",
       "      <td>0.0</td>\n",
       "      <td>0.0</td>\n",
       "      <td>0.0</td>\n",
       "    </tr>\n",
       "    <tr>\n",
       "      <th>max</th>\n",
       "      <td>9.000000</td>\n",
       "      <td>0.0</td>\n",
       "      <td>0.0</td>\n",
       "      <td>0.0</td>\n",
       "      <td>0.0</td>\n",
       "      <td>0.0</td>\n",
       "      <td>0.0</td>\n",
       "      <td>0.0</td>\n",
       "      <td>0.0</td>\n",
       "      <td>0.0</td>\n",
       "      <td>...</td>\n",
       "      <td>254.000000</td>\n",
       "      <td>254.000000</td>\n",
       "      <td>253.000000</td>\n",
       "      <td>253.00000</td>\n",
       "      <td>254.000000</td>\n",
       "      <td>62.000000</td>\n",
       "      <td>0.0</td>\n",
       "      <td>0.0</td>\n",
       "      <td>0.0</td>\n",
       "      <td>0.0</td>\n",
       "    </tr>\n",
       "  </tbody>\n",
       "</table>\n",
       "<p>8 rows × 785 columns</p>\n",
       "</div>"
      ],
      "text/plain": [
       "              label   pixel0   pixel1   pixel2   pixel3   pixel4   pixel5  \\\n",
       "count  42000.000000  42000.0  42000.0  42000.0  42000.0  42000.0  42000.0   \n",
       "mean       4.456643      0.0      0.0      0.0      0.0      0.0      0.0   \n",
       "std        2.887730      0.0      0.0      0.0      0.0      0.0      0.0   \n",
       "min        0.000000      0.0      0.0      0.0      0.0      0.0      0.0   \n",
       "25%        2.000000      0.0      0.0      0.0      0.0      0.0      0.0   \n",
       "50%        4.000000      0.0      0.0      0.0      0.0      0.0      0.0   \n",
       "75%        7.000000      0.0      0.0      0.0      0.0      0.0      0.0   \n",
       "max        9.000000      0.0      0.0      0.0      0.0      0.0      0.0   \n",
       "\n",
       "        pixel6   pixel7   pixel8  ...      pixel774      pixel775  \\\n",
       "count  42000.0  42000.0  42000.0  ...  42000.000000  42000.000000   \n",
       "mean       0.0      0.0      0.0  ...      0.219286      0.117095   \n",
       "std        0.0      0.0      0.0  ...      6.312890      4.633819   \n",
       "min        0.0      0.0      0.0  ...      0.000000      0.000000   \n",
       "25%        0.0      0.0      0.0  ...      0.000000      0.000000   \n",
       "50%        0.0      0.0      0.0  ...      0.000000      0.000000   \n",
       "75%        0.0      0.0      0.0  ...      0.000000      0.000000   \n",
       "max        0.0      0.0      0.0  ...    254.000000    254.000000   \n",
       "\n",
       "           pixel776     pixel777      pixel778      pixel779  pixel780  \\\n",
       "count  42000.000000  42000.00000  42000.000000  42000.000000   42000.0   \n",
       "mean       0.059024      0.02019      0.017238      0.002857       0.0   \n",
       "std        3.274488      1.75987      1.894498      0.414264       0.0   \n",
       "min        0.000000      0.00000      0.000000      0.000000       0.0   \n",
       "25%        0.000000      0.00000      0.000000      0.000000       0.0   \n",
       "50%        0.000000      0.00000      0.000000      0.000000       0.0   \n",
       "75%        0.000000      0.00000      0.000000      0.000000       0.0   \n",
       "max      253.000000    253.00000    254.000000     62.000000       0.0   \n",
       "\n",
       "       pixel781  pixel782  pixel783  \n",
       "count   42000.0   42000.0   42000.0  \n",
       "mean        0.0       0.0       0.0  \n",
       "std         0.0       0.0       0.0  \n",
       "min         0.0       0.0       0.0  \n",
       "25%         0.0       0.0       0.0  \n",
       "50%         0.0       0.0       0.0  \n",
       "75%         0.0       0.0       0.0  \n",
       "max         0.0       0.0       0.0  \n",
       "\n",
       "[8 rows x 785 columns]"
      ]
     },
     "execution_count": 5,
     "metadata": {},
     "output_type": "execute_result"
    }
   ],
   "source": [
    "train_df.describe()"
   ]
  },
  {
   "cell_type": "code",
   "execution_count": 6,
   "id": "735f5f94",
   "metadata": {
    "execution": {
     "iopub.execute_input": "2021-09-24T05:48:02.765886Z",
     "iopub.status.busy": "2021-09-24T05:48:02.765009Z",
     "iopub.status.idle": "2021-09-24T05:48:02.769082Z",
     "shell.execute_reply": "2021-09-24T05:48:02.769582Z",
     "shell.execute_reply.started": "2021-09-24T05:41:41.517170Z"
    },
    "papermill": {
     "duration": 0.127758,
     "end_time": "2021-09-24T05:48:02.769762",
     "exception": false,
     "start_time": "2021-09-24T05:48:02.642004",
     "status": "completed"
    },
    "tags": []
   },
   "outputs": [],
   "source": [
    "X_train = train_df.drop('label', axis = 1).to_numpy()\n",
    "y_train = train_df.label.to_numpy()\n",
    "X_test = test_df.to_numpy()\n",
    "y_test = []"
   ]
  },
  {
   "cell_type": "code",
   "execution_count": 7,
   "id": "c007eea1",
   "metadata": {
    "execution": {
     "iopub.execute_input": "2021-09-24T05:48:02.819326Z",
     "iopub.status.busy": "2021-09-24T05:48:02.818492Z",
     "iopub.status.idle": "2021-09-24T05:48:02.822574Z",
     "shell.execute_reply": "2021-09-24T05:48:02.822029Z",
     "shell.execute_reply.started": "2021-09-24T05:41:41.607642Z"
    },
    "papermill": {
     "duration": 0.031837,
     "end_time": "2021-09-24T05:48:02.822723",
     "exception": false,
     "start_time": "2021-09-24T05:48:02.790886",
     "status": "completed"
    },
    "tags": []
   },
   "outputs": [],
   "source": [
    "num_images_train = len(X_train)\n",
    "num_images_test = len(X_test)\n",
    "# convert train dataset into (length, width, channels)\n",
    "length, width, channels = 28, 28, 1\n",
    "X_train = X_train.reshape(num_images_train, length, width, channels)\n",
    "X_test = X_test.reshape(num_images_test, length, width, channels)\n",
    "\n",
    "# one hot encoding\n",
    "y_train = to_categorical(y_train)\n"
   ]
  },
  {
   "cell_type": "code",
   "execution_count": 8,
   "id": "b0bac1a9",
   "metadata": {
    "execution": {
     "iopub.execute_input": "2021-09-24T05:48:02.887466Z",
     "iopub.status.busy": "2021-09-24T05:48:02.886772Z",
     "iopub.status.idle": "2021-09-24T05:48:03.107199Z",
     "shell.execute_reply": "2021-09-24T05:48:03.106573Z",
     "shell.execute_reply.started": "2021-09-24T05:41:41.621611Z"
    },
    "papermill": {
     "duration": 0.262425,
     "end_time": "2021-09-24T05:48:03.107356",
     "exception": false,
     "start_time": "2021-09-24T05:48:02.844931",
     "status": "completed"
    },
    "tags": []
   },
   "outputs": [
    {
     "data": {
      "text/plain": [
       "<matplotlib.image.AxesImage at 0x2797abcadf0>"
      ]
     },
     "execution_count": 8,
     "metadata": {},
     "output_type": "execute_result"
    },
    {
     "data": {
      "image/png": "[encoded data removed]",
      "text/plain": [
       "<Figure size 432x288 with 1 Axes>"
      ]
     },
     "metadata": {
      "needs_background": "light"
     },
     "output_type": "display_data"
    }
   ],
   "source": [
    "plt.imshow(X_train[10])"
   ]
  },
  {
   "cell_type": "markdown",
   "id": "37b46b1c",
   "metadata": {
    "papermill": {
     "duration": 0.021681,
     "end_time": "2021-09-24T05:48:03.150993",
     "exception": false,
     "start_time": "2021-09-24T05:48:03.129312",
     "status": "completed"
    },
    "tags": []
   },
   "source": [
    "# Data Augumentation"
   ]
  },
  {
   "cell_type": "code",
   "execution_count": 9,
   "id": "8fafb1bf",
   "metadata": {
    "execution": {
     "iopub.execute_input": "2021-09-24T05:48:03.201237Z",
     "iopub.status.busy": "2021-09-24T05:48:03.200593Z",
     "iopub.status.idle": "2021-09-24T05:48:03.202855Z",
     "shell.execute_reply": "2021-09-24T05:48:03.203408Z",
     "shell.execute_reply.started": "2021-09-24T05:41:41.861123Z"
    },
    "papermill": {
     "duration": 0.030529,
     "end_time": "2021-09-24T05:48:03.203580",
     "exception": false,
     "start_time": "2021-09-24T05:48:03.173051",
     "status": "completed"
    },
    "tags": []
   },
   "outputs": [],
   "source": [
    "def data_augmenter():\n",
    "    data_augmentation = tf.keras.Sequential([])\n",
    "    data_augmentation.add(tf.keras.layers.experimental.preprocessing.RandomFlip('horizontal'))\n",
    "    data_augmentation.add(tf.keras.layers.experimental.preprocessing.RandomRotation(0.2))\n",
    "    return data_augmentation"
   ]
  },
  {
   "cell_type": "code",
   "execution_count": 10,
   "id": "df6456c7",
   "metadata": {
    "execution": {
     "iopub.execute_input": "2021-09-24T05:48:03.252281Z",
     "iopub.status.busy": "2021-09-24T05:48:03.251629Z",
     "iopub.status.idle": "2021-09-24T05:48:03.304589Z",
     "shell.execute_reply": "2021-09-24T05:48:03.303847Z",
     "shell.execute_reply.started": "2021-09-24T05:41:41.867650Z"
    },
    "papermill": {
     "duration": 0.078654,
     "end_time": "2021-09-24T05:48:03.304736",
     "exception": false,
     "start_time": "2021-09-24T05:48:03.226082",
     "status": "completed"
    },
    "tags": []
   },
   "outputs": [],
   "source": [
    "data_augmentation = data_augmenter()"
   ]
  },
  {
   "cell_type": "markdown",
   "id": "52ea81e0",
   "metadata": {
    "papermill": {
     "duration": 0.021999,
     "end_time": "2021-09-24T05:48:03.349020",
     "exception": false,
     "start_time": "2021-09-24T05:48:03.327021",
     "status": "completed"
    },
    "tags": []
   },
   "source": [
    "# Building the Model"
   ]
  },
  {
   "cell_type": "code",
   "execution_count": 11,
   "id": "69b4cfbb",
   "metadata": {
    "execution": {
     "iopub.execute_input": "2021-09-24T05:48:03.397543Z",
     "iopub.status.busy": "2021-09-24T05:48:03.396628Z",
     "iopub.status.idle": "2021-09-24T05:48:03.407215Z",
     "shell.execute_reply": "2021-09-24T05:48:03.406582Z",
     "shell.execute_reply.started": "2021-09-24T05:41:41.937809Z"
    },
    "papermill": {
     "duration": 0.035906,
     "end_time": "2021-09-24T05:48:03.407375",
     "exception": false,
     "start_time": "2021-09-24T05:48:03.371469",
     "status": "completed"
    },
    "tags": []
   },
   "outputs": [],
   "source": [
    "def my_model():\n",
    "    model = tf.keras.Sequential([])\n",
    "    model.add(tf.keras.layers.ZeroPadding2D(input_shape=(length,width,channels),padding=(3, 3), data_format=None)),\n",
    "    model.add(tf.keras.layers.Conv2D(32,(7,7), strides = (1,1))),\n",
    "    model.add(tf.keras.layers.BatchNormalization(axis = 3)),\n",
    "    model.add(tf.keras.layers.ReLU( max_value=None, negative_slope=0, threshold=0)),\n",
    "    model.add(tf.keras.layers.MaxPool2D(pool_size=(2, 2), strides=None, padding='valid', data_format=None)),\n",
    "    model.add(tf.keras.layers.Flatten(data_format = None)),\n",
    "    model.add(tf.keras.layers.Dense(64, activation='relu'))\n",
    "    model.add(tf.keras.layers.BatchNormalization())\n",
    "    model.add(tf.keras.layers.Dense(10, activation = 'softmax'))\n",
    "    \n",
    "    return model"
   ]
  },
  {
   "cell_type": "code",
   "execution_count": 12,
   "id": "8400335f",
   "metadata": {
    "execution": {
     "iopub.execute_input": "2021-09-24T05:48:03.456160Z",
     "iopub.status.busy": "2021-09-24T05:48:03.455532Z",
     "iopub.status.idle": "2021-09-24T05:48:03.571201Z",
     "shell.execute_reply": "2021-09-24T05:48:03.570627Z",
     "shell.execute_reply.started": "2021-09-24T05:41:41.948429Z"
    },
    "papermill": {
     "duration": 0.141439,
     "end_time": "2021-09-24T05:48:03.571359",
     "exception": false,
     "start_time": "2021-09-24T05:48:03.429920",
     "status": "completed"
    },
    "tags": []
   },
   "outputs": [],
   "source": [
    "model = my_model()"
   ]
  },
  {
   "cell_type": "code",
   "execution_count": 13,
   "id": "7e6c5e85",
   "metadata": {
    "execution": {
     "iopub.execute_input": "2021-09-24T05:48:03.624228Z",
     "iopub.status.busy": "2021-09-24T05:48:03.623561Z",
     "iopub.status.idle": "2021-09-24T05:48:03.637593Z",
     "shell.execute_reply": "2021-09-24T05:48:03.638101Z",
     "shell.execute_reply.started": "2021-09-24T05:41:42.072593Z"
    },
    "papermill": {
     "duration": 0.044739,
     "end_time": "2021-09-24T05:48:03.638289",
     "exception": false,
     "start_time": "2021-09-24T05:48:03.593550",
     "status": "completed"
    },
    "tags": []
   },
   "outputs": [],
   "source": [
    "# compiling my model\n",
    "model.compile(optimizer = keras.optimizers.Adam(\n",
    "   learning_rate = 0.001, beta_1 = 0.9, beta_2 = 0.999, amsgrad = False\n",
    "), loss = 'binary_crossentropy',metrics = ['accuracy'])"
   ]
  },
  {
   "cell_type": "markdown",
   "id": "8c254dbe",
   "metadata": {
    "papermill": {
     "duration": 0.021784,
     "end_time": "2021-09-24T05:48:03.682546",
     "exception": false,
     "start_time": "2021-09-24T05:48:03.660762",
     "status": "completed"
    },
    "tags": []
   },
   "source": [
    "# checking the parameters of my model"
   ]
  },
  {
   "cell_type": "code",
   "execution_count": 14,
   "id": "3c7f93f5",
   "metadata": {
    "execution": {
     "iopub.execute_input": "2021-09-24T05:48:03.734903Z",
     "iopub.status.busy": "2021-09-24T05:48:03.730426Z",
     "iopub.status.idle": "2021-09-24T05:48:03.740589Z",
     "shell.execute_reply": "2021-09-24T05:48:03.739957Z",
     "shell.execute_reply.started": "2021-09-24T05:41:42.091640Z"
    },
    "papermill": {
     "duration": 0.03587,
     "end_time": "2021-09-24T05:48:03.740724",
     "exception": false,
     "start_time": "2021-09-24T05:48:03.704854",
     "status": "completed"
    },
    "tags": []
   },
   "outputs": [
    {
     "name": "stdout",
     "output_type": "stream",
     "text": [
      "Model: \"sequential_1\"\n",
      "_________________________________________________________________\n",
      "Layer (type)                 Output Shape              Param #   \n",
      "=================================================================\n",
      "zero_padding2d (ZeroPadding2 (None, 34, 34, 1)         0         \n",
      "_________________________________________________________________\n",
      "conv2d (Conv2D)              (None, 28, 28, 32)        1600      \n",
      "_________________________________________________________________\n",
      "batch_normalization (BatchNo (None, 28, 28, 32)        128       \n",
      "_________________________________________________________________\n",
      "re_lu (ReLU)                 (None, 28, 28, 32)        0         \n",
      "_________________________________________________________________\n",
      "max_pooling2d (MaxPooling2D) (None, 14, 14, 32)        0         \n",
      "_________________________________________________________________\n",
      "flatten (Flatten)            (None, 6272)              0         \n",
      "_________________________________________________________________\n",
      "dense (Dense)                (None, 64)                401472    \n",
      "_________________________________________________________________\n",
      "batch_normalization_1 (Batch (None, 64)                256       \n",
      "_________________________________________________________________\n",
      "dense_1 (Dense)              (None, 10)                650       \n",
      "=================================================================\n",
      "Total params: 404,106\n",
      "Trainable params: 403,914\n",
      "Non-trainable params: 192\n",
      "_________________________________________________________________\n"
     ]
    }
   ],
   "source": [
    "model.summary()"
   ]
  },
  {
   "cell_type": "markdown",
   "id": "05d3a1ac",
   "metadata": {
    "papermill": {
     "duration": 0.02215,
     "end_time": "2021-09-24T05:48:03.785325",
     "exception": false,
     "start_time": "2021-09-24T05:48:03.763175",
     "status": "completed"
    },
    "tags": []
   },
   "source": [
    "# Training my model"
   ]
  },
  {
   "cell_type": "code",
   "execution_count": 15,
   "id": "e61bcab6",
   "metadata": {
    "execution": {
     "iopub.execute_input": "2021-09-24T05:48:03.836463Z",
     "iopub.status.busy": "2021-09-24T05:48:03.835806Z",
     "iopub.status.idle": "2021-09-24T05:54:42.577722Z",
     "shell.execute_reply": "2021-09-24T05:54:42.577194Z",
     "shell.execute_reply.started": "2021-09-24T05:41:42.103252Z"
    },
    "papermill": {
     "duration": 398.769916,
     "end_time": "2021-09-24T05:54:42.577914",
     "exception": false,
     "start_time": "2021-09-24T05:48:03.807998",
     "status": "completed"
    },
    "tags": []
   },
   "outputs": [
    {
     "name": "stdout",
     "output_type": "stream",
     "text": [
      "Epoch 1/10\n",
      "2625/2625 [==============================] - 104s 40ms/step - loss: 0.0268 - accuracy: 0.9544\n",
      "Epoch 2/10\n",
      "2625/2625 [==============================] - 101s 38ms/step - loss: 0.0136 - accuracy: 0.9766\n",
      "Epoch 3/10\n",
      "2625/2625 [==============================] - 103s 39ms/step - loss: 0.0102 - accuracy: 0.9821\n",
      "Epoch 4/10\n",
      "2625/2625 [==============================] - 101s 38ms/step - loss: 0.0083 - accuracy: 0.9861s - loss: 0.0083 \n",
      "Epoch 5/10\n",
      "2625/2625 [==============================] - 103s 39ms/step - loss: 0.0069 - accuracy: 0.9883\n",
      "Epoch 6/10\n",
      "2625/2625 [==============================] - 101s 38ms/step - loss: 0.0058 - accuracy: 0.9906\n",
      "Epoch 7/10\n",
      "2625/2625 [==============================] - 102s 39ms/step - loss: 0.0050 - accuracy: 0.9913s - loss: 0.0050 - accuracy\n",
      "Epoch 8/10\n",
      "2625/2625 [==============================] - 106s 41ms/step - loss: 0.0043 - accuracy: 0.9927\n",
      "Epoch 9/10\n",
      "2625/2625 [==============================] - 102s 39ms/step - loss: 0.0036 - accuracy: 0.9937\n",
      "Epoch 10/10\n",
      "2625/2625 [==============================] - 100s 38ms/step - loss: 0.0034 - accuracy: 0.9944\n"
     ]
    },
    {
     "data": {
      "text/plain": [
       "<tensorflow.python.keras.callbacks.History at 0x2797af86fa0>"
      ]
     },
     "execution_count": 15,
     "metadata": {},
     "output_type": "execute_result"
    }
   ],
   "source": [
    "model.fit(X_train, y_train, epochs = 10, batch_size = 16)"
   ]
  },
  {
   "cell_type": "code",
   "execution_count": 16,
   "id": "d21eba5a",
   "metadata": {
    "execution": {
     "iopub.execute_input": "2021-09-24T05:54:46.789351Z",
     "iopub.status.busy": "2021-09-24T05:54:46.788656Z",
     "iopub.status.idle": "2021-09-24T05:54:46.791343Z",
     "shell.execute_reply": "2021-09-24T05:54:46.791864Z",
     "shell.execute_reply.started": "2021-09-24T05:46:59.504060Z"
    },
    "papermill": {
     "duration": 2.121193,
     "end_time": "2021-09-24T05:54:46.792054",
     "exception": false,
     "start_time": "2021-09-24T05:54:44.670861",
     "status": "completed"
    },
    "tags": []
   },
   "outputs": [
    {
     "data": {
      "text/plain": [
       "<tensorflow.python.keras.callbacks.History at 0x2797af86fa0>"
      ]
     },
     "execution_count": 16,
     "metadata": {},
     "output_type": "execute_result"
    }
   ],
   "source": [
    "model.history"
   ]
  },
  {
   "cell_type": "markdown",
   "id": "c4e197e5",
   "metadata": {
    "papermill": {
     "duration": 2.095697,
     "end_time": "2021-09-24T05:54:51.064991",
     "exception": false,
     "start_time": "2021-09-24T05:54:48.969294",
     "status": "completed"
    },
    "tags": []
   },
   "source": [
    "# Predictions"
   ]
  },
  {
   "cell_type": "code",
   "execution_count": 17,
   "id": "631e62a6",
   "metadata": {
    "execution": {
     "iopub.execute_input": "2021-09-24T05:54:55.302557Z",
     "iopub.status.busy": "2021-09-24T05:54:55.301853Z",
     "iopub.status.idle": "2021-09-24T05:55:01.593921Z",
     "shell.execute_reply": "2021-09-24T05:55:01.593356Z",
     "shell.execute_reply.started": "2021-09-24T05:46:59.511064Z"
    },
    "papermill": {
     "duration": 8.429484,
     "end_time": "2021-09-24T05:55:01.594064",
     "exception": false,
     "start_time": "2021-09-24T05:54:53.164580",
     "status": "completed"
    },
    "tags": []
   },
   "outputs": [
    {
     "data": {
      "text/plain": [
       "array([2, 0, 9, ..., 3, 9, 2], dtype=int64)"
      ]
     },
     "execution_count": 17,
     "metadata": {},
     "output_type": "execute_result"
    }
   ],
   "source": [
    "predictions =  np.argmax(model.predict(X_test), axis=-1)\n",
    "predictions"
   ]
  },
  {
   "cell_type": "code",
   "execution_count": null,
   "id": "9193e3ba",
   "metadata": {
    "papermill": {
     "duration": 2.10672,
     "end_time": "2021-09-24T05:55:14.626419",
     "exception": false,
     "start_time": "2021-09-24T05:55:12.519699",
     "status": "completed"
    },
    "tags": []
   },
   "outputs": [],
   "source": []
  }
 ],
 "metadata": {
  "kernelspec": {
   "display_name": "Python 3",
   "language": "python",
   "name": "python3"
  },
  "language_info": {
   "codemirror_mode": {
    "name": "ipython",
    "version": 3
   },
   "file_extension": ".py",
   "mimetype": "text/x-python",
   "name": "python",
   "nbconvert_exporter": "python",
   "pygments_lexer": "ipython3",
   "version": "3.8.8"
  },
  "papermill": {
   "default_parameters": {},
   "duration": 459.350499,
   "end_time": "2021-09-24T05:55:20.129535",
   "environment_variables": {},
   "exception": null,
   "input_path": "__notebook__.ipynb",
   "output_path": "__notebook__.ipynb",
   "parameters": {},
   "start_time": "2021-09-24T05:47:40.779036",
   "version": "2.3.3"
  }
 },
 "nbformat": 4,
 "nbformat_minor": 5
}
